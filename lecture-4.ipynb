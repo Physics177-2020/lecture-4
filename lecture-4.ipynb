{
 "cells": [
  {
   "cell_type": "markdown",
   "metadata": {},
   "source": [
    "# Lecture 4: Simpson's rule\n",
    "\n",
    "Last time we made a function that could integrate functions using the trapezoidal rule. This time, let's start by doing the same thing using Simpson's rule."
   ]
  },
  {
   "cell_type": "code",
   "execution_count": null,
   "metadata": {},
   "outputs": [],
   "source": [
    "# Define the function\n",
    "\n",
    "    # Set out the list of points\n",
    "    \n",
    "    # Remember: the number of points needs to be even! How can we ensure this?\n",
    "    \n",
    "    # Perform the sum\n",
    "    \n",
    "    # Return the result\n",
    "    "
   ]
  },
  {
   "cell_type": "code",
   "execution_count": null,
   "metadata": {},
   "outputs": [],
   "source": []
  },
  {
   "cell_type": "code",
   "execution_count": null,
   "metadata": {},
   "outputs": [],
   "source": []
  },
  {
   "cell_type": "code",
   "execution_count": null,
   "metadata": {},
   "outputs": [],
   "source": [
    "\n",
    "\n",
    "\n",
    "\n",
    "\n",
    "\n",
    "\n",
    "\n",
    "\n",
    "\n",
    "\n",
    "\n",
    "\n",
    "\n",
    "\n",
    "\n",
    "\n",
    "\n",
    "\n",
    "\n",
    "\n",
    "\n"
   ]
  },
  {
   "cell_type": "markdown",
   "metadata": {},
   "source": [
    "We'll compare our results with an integrator that uses the trapezoidal rule. I've already written the code below. Here I'm using `numpy` functions for convenience (and speed). We can investigate what unfamiliar functions do using the builtin `help()` function."
   ]
  },
  {
   "cell_type": "code",
   "execution_count": null,
   "metadata": {},
   "outputs": [],
   "source": [
    "import numpy as np\n",
    "\n",
    "def integrate_trapezoidal(f, a, b, n_points=100):\n",
    "    \"\"\" \n",
    "    Perform integration using the trapezoidal rule and return the result.\n",
    "    \n",
    "    Parameters\n",
    "    ----------\n",
    "    f : univariate function\n",
    "        The function to be integrated. Input should be one real-valued number.\n",
    "    a : number\n",
    "        The lower limit of integration.\n",
    "    b : number\n",
    "        The upper limit of integration.\n",
    "    n_points : number, optional\n",
    "        The number of subdivisions of the integration space to use. The default\n",
    "        number of subdivisions is 100.\n",
    "        \n",
    "    Returns\n",
    "    -------\n",
    "    total : number\n",
    "        The estimated integral.\n",
    "    \"\"\"\n",
    "    \n",
    "    dx = (b - a) / float(n_points)  # this is the spacing between points\n",
    "    \n",
    "    sample_points = np.arange(a, b, dx)  # set out the sample points evenly\n",
    "    \n",
    "    total = np.sum(f(sample_points) + f(sample_points + dx)) * dx / 2  # perform the sum\n",
    "    \n",
    "    return total  # and return it!"
   ]
  },
  {
   "cell_type": "code",
   "execution_count": null,
   "metadata": {},
   "outputs": [],
   "source": []
  },
  {
   "cell_type": "markdown",
   "metadata": {},
   "source": [
    "Let's test these integrators on our function from yesterday, \n",
    "\n",
    "$$ f(x) = e^{-x^2}\\,. $$\n",
    "\n",
    "Integrating this from zero to one gives approximately 0.746824."
   ]
  },
  {
   "cell_type": "code",
   "execution_count": null,
   "metadata": {},
   "outputs": [],
   "source": [
    "def func(x):\n",
    "    return np.exp(-x**2)"
   ]
  },
  {
   "cell_type": "code",
   "execution_count": null,
   "metadata": {},
   "outputs": [],
   "source": [
    "print(integrate_trapezoidal(func, 0, 1))\n",
    "print(integrate_simpson(func, 0, 1, 100))"
   ]
  },
  {
   "cell_type": "code",
   "execution_count": null,
   "metadata": {},
   "outputs": [],
   "source": [
    "\n",
    "\n",
    "\n",
    "\n",
    "\n",
    "\n",
    "\n",
    "\n",
    "\n",
    "\n",
    "\n",
    "\n",
    "\n",
    "\n",
    "\n",
    "\n",
    "\n",
    "\n",
    "\n",
    "\n",
    "\n",
    "\n"
   ]
  },
  {
   "cell_type": "markdown",
   "metadata": {},
   "source": [
    "**Aside:** these functions are starting to have a lot of arguments, do we really need to remember the exact order? *No*, as long as we know the name of the variable we're assigning. See the example below."
   ]
  },
  {
   "cell_type": "code",
   "execution_count": null,
   "metadata": {},
   "outputs": [],
   "source": [
    "print(integrate_trapezoidal(func,   0,   1))\n",
    "print(integrate_trapezoidal(func, b=1, a=0))"
   ]
  },
  {
   "cell_type": "code",
   "execution_count": null,
   "metadata": {},
   "outputs": [],
   "source": [
    "\n",
    "\n",
    "\n",
    "\n",
    "\n",
    "\n",
    "\n",
    "\n",
    "\n",
    "\n",
    "\n",
    "\n",
    "\n",
    "\n",
    "\n",
    "\n",
    "\n",
    "\n",
    "\n",
    "\n",
    "\n",
    "\n"
   ]
  },
  {
   "cell_type": "markdown",
   "metadata": {},
   "source": [
    "This time, let's plot the function we want to integrate and compare it with the approximation used in the numerical integral. This will give us a sense of the error on the integral. Let's use a function for this that changes significantly, like \n",
    "\n",
    "$$f(x) = \\cos(x^2)\\,.$$ \n",
    "\n",
    "If you integrate this function from zero to $2\\pi$, it turns out that the answer is around 0.704682.\n",
    "\n",
    "We'll plot this with the `lineplot` function from `seaborn`."
   ]
  },
  {
   "cell_type": "code",
   "execution_count": null,
   "metadata": {},
   "outputs": [],
   "source": [
    "def f(x):\n",
    "    return np.cos(x**2)"
   ]
  },
  {
   "cell_type": "code",
   "execution_count": null,
   "metadata": {},
   "outputs": [],
   "source": [
    "import seaborn as sns\n",
    "\n",
    "# lineplot requires an array of x and y indices to make the plot\n",
    "\n",
    "x = # fill this in\n",
    "y = # fill this in\n",
    "\n",
    "sns.lineplot(x, y) # plot the function"
   ]
  },
  {
   "cell_type": "code",
   "execution_count": null,
   "metadata": {},
   "outputs": [],
   "source": [
    "# what does the trapezoidal approximation look like?\n",
    "\n",
    "a = 0\n",
    "b = 2 * np.pi\n",
    "n_points = 10\n",
    "\n",
    "x_trapezoidal = # fill this in\n",
    "y_trapezoidal = # fill this in\n",
    "\n",
    "sns.lineplot(x_trapezoidal, y_trapezoidal) # plot the trapezoidal approximation\n",
    "\n",
    "# what does the trapezoidal integral give in this case?\n",
    "\n",
    "print('With n_points = %d, the trapezoidal approximation gives %lf' % \n",
    "     (n_points, integrate_trapezoidal(f, a, b, n_points)))"
   ]
  },
  {
   "cell_type": "code",
   "execution_count": null,
   "metadata": {},
   "outputs": [],
   "source": []
  },
  {
   "cell_type": "code",
   "execution_count": null,
   "metadata": {},
   "outputs": [],
   "source": [
    "\n",
    "\n",
    "\n",
    "\n",
    "\n",
    "\n",
    "\n",
    "\n",
    "\n",
    "\n",
    "\n",
    "\n",
    "\n",
    "\n",
    "\n",
    "\n",
    "\n",
    "\n",
    "\n",
    "\n",
    "\n",
    "\n"
   ]
  },
  {
   "cell_type": "markdown",
   "metadata": {},
   "source": [
    "Plotting for Simpson's rule is a little bit more complicated because we need to estimate the quadratic function on each set of intervals, so to save time I've coded this out already."
   ]
  },
  {
   "cell_type": "code",
   "execution_count": null,
   "metadata": {},
   "outputs": [],
   "source": [
    "def simpson_a(f, x, dx):\n",
    "    return (f(x-dx) - (2*f(x)) + f(x+dx)) / (2 * dx**2)\n",
    "\n",
    "def simpson_b(f, x, dx):\n",
    "    return (f(x+dx) - f(x-dx)) / (2 * dx)\n",
    "\n",
    "def simpson_c(f, x, dx):\n",
    "    return f(x)\n",
    "\n",
    "\n",
    "a = 0\n",
    "b = 2 * np.pi\n",
    "n_points = 10\n",
    "\n",
    "dx = (b - a) / float(n_points)\n",
    "x  = np.arange(a, b, dx)\n",
    "\n",
    "for i in range(1, len(x), 2): # run over all _odd_ integers!\n",
    "    A = simpson_a(f, x[i], dx)\n",
    "    B = simpson_b(f, x[i], dx)\n",
    "    C = simpson_c(f, x[i], dx)\n",
    "    \n",
    "    xx = np.arange(x[i]-dx, x[i]+dx, 0.01)\n",
    "    yy = (A * ((xx-x[i])**2)) + (B * (xx-x[i])) + C  # remember, expansion _around x[i]_!\n",
    "    \n",
    "    sns.lineplot(xx, yy, color='b')"
   ]
  },
  {
   "cell_type": "code",
   "execution_count": null,
   "metadata": {},
   "outputs": [],
   "source": [
    "# what does the integral with Simpson's rule give in this case?\n",
    "\n",
    "print(\"With n_points = %d, Simpson's rule gives %lf\" % (n_points, integrate_simpson(f, a, b, n_points)))"
   ]
  },
  {
   "cell_type": "code",
   "execution_count": null,
   "metadata": {},
   "outputs": [],
   "source": [
    "\n",
    "\n",
    "\n",
    "\n",
    "\n",
    "\n",
    "\n",
    "\n",
    "\n",
    "\n",
    "\n",
    "\n",
    "\n",
    "\n",
    "\n",
    "\n",
    "\n",
    "\n",
    "\n",
    "\n",
    "\n",
    "\n"
   ]
  },
  {
   "cell_type": "markdown",
   "metadata": {},
   "source": [
    "Now, we can try checking the timing. How does the running time depend on the number of steps?"
   ]
  },
  {
   "cell_type": "code",
   "execution_count": null,
   "metadata": {},
   "outputs": [],
   "source": [
    "import time as ti\n",
    "start_time = ti.time()\n",
    "\n",
    "# integrate the function\n",
    "\n",
    "# print the run time and the error"
   ]
  },
  {
   "cell_type": "code",
   "execution_count": null,
   "metadata": {},
   "outputs": [],
   "source": []
  }
 ],
 "metadata": {
  "kernelspec": {
   "display_name": "Python 3",
   "language": "python",
   "name": "python3"
  },
  "language_info": {
   "codemirror_mode": {
    "name": "ipython",
    "version": 3
   },
   "file_extension": ".py",
   "mimetype": "text/x-python",
   "name": "python",
   "nbconvert_exporter": "python",
   "pygments_lexer": "ipython3",
   "version": "3.7.7"
  }
 },
 "nbformat": 4,
 "nbformat_minor": 2
}
